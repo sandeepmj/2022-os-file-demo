{
 "cells": [
  {
   "cell_type": "markdown",
   "metadata": {},
   "source": [
    "# Managing Files and Folder using Python \n",
    "\n"
   ]
  },
  {
   "cell_type": "markdown",
   "metadata": {},
   "source": [
    "### Professional Organization\n",
    "\n",
    "Staying organized is paramount.\n",
    "\n",
    "Here's a professional structure (create your own, but stay consistent):\n",
    "\n",
    "```dataProjects --> yyyy-project-name```\n",
    "\n",
    "Within each project folder include\n",
    "\n",
    "- ```raw``` folder\n",
    "- ```output``` folder\n",
    "\n",
    "\n"
   ]
  },
  {
   "cell_type": "markdown",
   "metadata": {
    "id": "GZacCx2Yzims"
   },
   "source": [
    "#### As we create and tap files for analysis, we need to stay organized programmatically.\n",
    "\n",
    "- Let's understand the folder/director structure on our computers.\n",
    "\n",
    "- We'll use the ```os module``` and ```pathlib``` to create, navigate and delete files and folders programmatically.\n",
    "\n",
    "- We'll also use command line/UNIX commands like ```ls```, ```cd``` and ```mkdir```.\n",
    "\n",
    "- [Download the sample files](https://drive.google.com/file/d/1lHEMs5mVhNKXsZHYwE_ww_AhWdFK8WPI/view?usp=share_link) we will need.\n",
    "\n",
    "- For now, place the unzipped folder's content into your ```raw``` folder inside the newly created project folder."
   ]
  },
  {
   "cell_type": "code",
   "execution_count": 2,
   "metadata": {
    "id": "w7tpVnQ7zimy"
   },
   "outputs": [],
   "source": [
    "## import libraries\n",
    "import os  ## allows you to navigate, create, delete folders\n",
    "from pathlib import Path ## allows to create paths to files and folders\n",
    "import shutil ## To empty a directory with files in it, we use another library called shutil\n",
    "import pandas as pd"
   ]
  },
  {
   "cell_type": "markdown",
   "metadata": {
    "id": "OaOCcvP_5eYU"
   },
   "source": [
    "## UNIX Command Line v. Programmatic Command Line\n",
    "\n",
    "### NOTE: Do pure UNIX commands in your ```Terminal``` application.\n",
    "\n",
    "- ```UNIX``` commands are done manually.\n",
    "\n",
    "#### Programmatic Folder/Files Management\n",
    "\n",
    " \n",
    "- We make this Python scriptable by using the ```os module```.\n",
    "\n",
    "UNIX v. Python <a href=\"https://docs.google.com/spreadsheets/d/1J7CVJgrYWh6xQMe4LzBxn2_ZNrSedo4S6vIN8Ct2EtE/edit?usp=sharing\">commands</a>\n",
    "\n",
    "\n",
    "\n"
   ]
  },
  {
   "cell_type": "markdown",
   "metadata": {
    "id": "SNa7p6pz5uQK"
   },
   "source": [
    "## Where am I?\n",
    "\n",
    "#### UNIX - ```pwd```\n",
    "#### os - ```os.getcwd() ```"
   ]
  },
  {
   "cell_type": "code",
   "execution_count": 3,
   "metadata": {
    "colab": {
     "base_uri": "https://localhost:8080/",
     "height": 35
    },
    "id": "NweRIXSD5vwB",
    "outputId": "22e2d3e1-c1de-4eba-bd9f-922ba5d97072"
   },
   "outputs": [
    {
     "data": {
      "text/plain": [
       "'/Users/sandeepjunnarkar/Dropbox/Mac/Downloads/dataProjects/2022-os-file-demo'"
      ]
     },
     "execution_count": 3,
     "metadata": {},
     "output_type": "execute_result"
    }
   ],
   "source": [
    "## os\n",
    "os.getcwd()"
   ]
  },
  {
   "cell_type": "markdown",
   "metadata": {
    "id": "v8Yl83mh50Gi"
   },
   "source": [
    "## List content of directory\n",
    "\n",
    "#### UNIX - ```ls```\n",
    "#### os - ```os.listdir()``` "
   ]
  },
  {
   "cell_type": "code",
   "execution_count": 5,
   "metadata": {},
   "outputs": [
    {
     "name": "stdout",
     "output_type": "stream",
     "text": [
      "LICENSE\r\n",
      "README.md\r\n",
      "\u001b[1m\u001b[36moutput\u001b[m\u001b[m/\r\n",
      "\u001b[1m\u001b[36mraw-data\u001b[m\u001b[m/\r\n",
      "wk-08A-filefolder-management-DEMO.ipynb\r\n"
     ]
    }
   ],
   "source": [
    "ls"
   ]
  },
  {
   "cell_type": "code",
   "execution_count": 4,
   "metadata": {
    "colab": {
     "base_uri": "https://localhost:8080/"
    },
    "id": "2Aozyaz_52KH",
    "outputId": "23724e2d-1a98-4c08-d856-8e0b868644a4"
   },
   "outputs": [
    {
     "data": {
      "text/plain": [
       "['raw-data',\n",
       " '.DS_Store',\n",
       " 'LICENSE',\n",
       " 'output',\n",
       " 'README.md',\n",
       " 'wk-08A-filefolder-management-DEMO.ipynb',\n",
       " '.gitignore',\n",
       " '.ipynb_checkpoints',\n",
       " '.git']"
      ]
     },
     "execution_count": 4,
     "metadata": {},
     "output_type": "execute_result"
    }
   ],
   "source": [
    "os.listdir()"
   ]
  },
  {
   "cell_type": "markdown",
   "metadata": {
    "id": "AM5PC1S46A8S"
   },
   "source": [
    "## Change directories\n",
    "\n",
    "#### UNIX -  ```cd```\n",
    "#### os - ```os.chdir(\"name-of-directory\")```\n",
    "\n",
    "let's enter our ```raw``` folder in our project folde"
   ]
  },
  {
   "cell_type": "code",
   "execution_count": 7,
   "metadata": {
    "colab": {
     "base_uri": "https://localhost:8080/"
    },
    "id": "CShXmMUT6DWC",
    "outputId": "6d4b6d7e-8295-488e-cf78-623906cacd91"
   },
   "outputs": [],
   "source": [
    "## change directory\n",
    "os.chdir(\"raw-data\")"
   ]
  },
  {
   "cell_type": "code",
   "execution_count": 8,
   "metadata": {},
   "outputs": [
    {
     "data": {
      "text/plain": [
       "'/Users/sandeepjunnarkar/Dropbox/Mac/Downloads/dataProjects/2022-os-file-demo/raw-data'"
      ]
     },
     "execution_count": 8,
     "metadata": {},
     "output_type": "execute_result"
    }
   ],
   "source": [
    "## where am I now?\n",
    "os.getcwd()"
   ]
  },
  {
   "cell_type": "markdown",
   "metadata": {
    "id": "-15W5y4v6Hv4"
   },
   "source": [
    "## What does this folder hold?"
   ]
  },
  {
   "cell_type": "code",
   "execution_count": 9,
   "metadata": {},
   "outputs": [
    {
     "data": {
      "text/plain": [
       "['fla_count_5.csv',\n",
       " 'fla_count_4.csv',\n",
       " 'fla_count_3csv.csv',\n",
       " 'fla_count_2.csv',\n",
       " 'fla_count_1.csv',\n",
       " 'adolph-coors-2015.pdf',\n",
       " 'adolph-coors-2014.pdf',\n",
       " 'adolph-coors-2013.pdf',\n",
       " 'read_sample1.txt']"
      ]
     },
     "execution_count": 9,
     "metadata": {},
     "output_type": "execute_result"
    }
   ],
   "source": [
    "## list content of this directory\n",
    "os.listdir()"
   ]
  },
  {
   "cell_type": "markdown",
   "metadata": {
    "id": "ktN_tdwH7CBw"
   },
   "source": [
    "## Back out of folder to the enclosing folder\n",
    "\n",
    "#### UNIX - ```cd ..```\n",
    "#### os - ```os.chdir(\"..\")```"
   ]
  },
  {
   "cell_type": "code",
   "execution_count": 10,
   "metadata": {
    "colab": {
     "base_uri": "https://localhost:8080/"
    },
    "id": "4FumnMS17EPm",
    "outputId": "55d130d2-8546-43c6-b4b5-f980463a4e8b"
   },
   "outputs": [],
   "source": [
    "## back out\n",
    "os.chdir(\"..\")"
   ]
  },
  {
   "cell_type": "code",
   "execution_count": 11,
   "metadata": {
    "colab": {
     "base_uri": "https://localhost:8080/",
     "height": 35
    },
    "id": "CAd9NisX7Jnb",
    "outputId": "51a888c9-1714-4e7a-de01-51d1141faa41"
   },
   "outputs": [
    {
     "data": {
      "text/plain": [
       "'/Users/sandeepjunnarkar/Dropbox/Mac/Downloads/dataProjects/2022-os-file-demo'"
      ]
     },
     "execution_count": 11,
     "metadata": {},
     "output_type": "execute_result"
    }
   ],
   "source": [
    "### - Where am I?\n",
    "os.getcwd() "
   ]
  },
  {
   "cell_type": "code",
   "execution_count": 13,
   "metadata": {},
   "outputs": [],
   "source": [
    "### - let's return to our ```raw``` folder in our project folder\n",
    "os.chdir(\"raw-data\")"
   ]
  },
  {
   "cell_type": "code",
   "execution_count": 14,
   "metadata": {
    "colab": {
     "base_uri": "https://localhost:8080/",
     "height": 35
    },
    "id": "9Lnu3jTz8OvV",
    "outputId": "483a6592-74a5-4b75-bbd8-4f2758cca2ac"
   },
   "outputs": [
    {
     "data": {
      "text/plain": [
       "'/Users/sandeepjunnarkar/Dropbox/Mac/Downloads/dataProjects/2022-os-file-demo/raw-data'"
      ]
     },
     "execution_count": 14,
     "metadata": {},
     "output_type": "execute_result"
    }
   ],
   "source": [
    "### - Let's confirm where we are:\n",
    "os.getcwd() \n"
   ]
  },
  {
   "cell_type": "code",
   "execution_count": 15,
   "metadata": {
    "colab": {
     "base_uri": "https://localhost:8080/"
    },
    "id": "uNygGTPBzim0",
    "outputId": "d5314306-7e9b-4ecb-d48d-22b246f259c1"
   },
   "outputs": [
    {
     "data": {
      "text/plain": [
       "['fla_count_5.csv',\n",
       " 'fla_count_4.csv',\n",
       " 'fla_count_3csv.csv',\n",
       " 'fla_count_2.csv',\n",
       " 'fla_count_1.csv',\n",
       " 'adolph-coors-2015.pdf',\n",
       " 'adolph-coors-2014.pdf',\n",
       " 'adolph-coors-2013.pdf',\n",
       " 'read_sample1.txt']"
      ]
     },
     "execution_count": 15,
     "metadata": {},
     "output_type": "execute_result"
    }
   ],
   "source": [
    "### - list the content of this folder again\n",
    "os.listdir()"
   ]
  },
  {
   "cell_type": "code",
   "execution_count": 16,
   "metadata": {},
   "outputs": [
    {
     "data": {
      "text/plain": [
       "'/Users/sandeepjunnarkar/Dropbox/Mac/Downloads/dataProjects/2022-os-file-demo'"
      ]
     },
     "execution_count": 16,
     "metadata": {},
     "output_type": "execute_result"
    }
   ],
   "source": [
    "os.chdir(\"..\")\n",
    "os.getcwd() "
   ]
  },
  {
   "cell_type": "markdown",
   "metadata": {},
   "source": [
    "## Generating folders\n",
    "#### UNIX - ```mkdir folder-name```\n",
    "#### os - ```Path('folder_name/').mkdir(exist_ok=True)```"
   ]
  },
  {
   "cell_type": "code",
   "execution_count": 17,
   "metadata": {
    "id": "KsI7OysGgo3s"
   },
   "outputs": [],
   "source": [
    "## create here without variable name\n",
    "Path(\"dummy-folder\").mkdir(exist_ok = True)"
   ]
  },
  {
   "cell_type": "code",
   "execution_count": 18,
   "metadata": {},
   "outputs": [
    {
     "data": {
      "text/plain": [
       "['raw-data',\n",
       " '.DS_Store',\n",
       " 'LICENSE',\n",
       " 'output',\n",
       " 'README.md',\n",
       " 'wk-08A-filefolder-management-DEMO.ipynb',\n",
       " '.gitignore',\n",
       " '.ipynb_checkpoints',\n",
       " '.git',\n",
       " 'dummy-folder']"
      ]
     },
     "execution_count": 18,
     "metadata": {},
     "output_type": "execute_result"
    }
   ],
   "source": [
    "os.listdir()"
   ]
  },
  {
   "cell_type": "code",
   "execution_count": 19,
   "metadata": {
    "id": "35e_-vJpieBn"
   },
   "outputs": [],
   "source": [
    "### create junk_folder\n",
    "\n",
    "Path(\"junk-folder\").mkdir(exist_ok = True)"
   ]
  },
  {
   "cell_type": "code",
   "execution_count": 20,
   "metadata": {},
   "outputs": [
    {
     "data": {
      "text/plain": [
       "['raw-data',\n",
       " '.DS_Store',\n",
       " 'LICENSE',\n",
       " 'output',\n",
       " 'junk-folder',\n",
       " 'README.md',\n",
       " 'wk-08A-filefolder-management-DEMO.ipynb',\n",
       " '.gitignore',\n",
       " '.ipynb_checkpoints',\n",
       " '.git',\n",
       " 'dummy-folder']"
      ]
     },
     "execution_count": 20,
     "metadata": {},
     "output_type": "execute_result"
    }
   ],
   "source": [
    "os.listdir()"
   ]
  },
  {
   "cell_type": "markdown",
   "metadata": {},
   "source": [
    "### Always better to use variables so we can generate folders programmatically"
   ]
  },
  {
   "cell_type": "code",
   "execution_count": 22,
   "metadata": {
    "id": "tyTDQLEDzim0"
   },
   "outputs": [],
   "source": [
    "## create a path to folder called some_new_folder\n",
    "## we store that path in a variable called my_new_directory\n",
    "new_dir = Path(\"scraps\")"
   ]
  },
  {
   "cell_type": "code",
   "execution_count": 23,
   "metadata": {
    "id": "BZF_SEfRzim0"
   },
   "outputs": [],
   "source": [
    "## create that directory\n",
    "## exists_ok=True checks to see if the folder already exists\n",
    "new_dir.mkdir(exist_ok = True)"
   ]
  },
  {
   "cell_type": "markdown",
   "metadata": {
    "id": "6YRZyRRJrXeT"
   },
   "source": [
    "### List contents of folder now"
   ]
  },
  {
   "cell_type": "code",
   "execution_count": 25,
   "metadata": {
    "colab": {
     "base_uri": "https://localhost:8080/"
    },
    "id": "hYIq9Gu6zim1",
    "outputId": "a431fd61-5b88-495d-ee72-21d457849d64"
   },
   "outputs": [
    {
     "data": {
      "text/plain": [
       "['raw-data',\n",
       " '.DS_Store',\n",
       " 'LICENSE',\n",
       " 'output',\n",
       " 'junk-folder',\n",
       " 'README.md',\n",
       " 'wk-08A-filefolder-management-DEMO.ipynb',\n",
       " '.gitignore',\n",
       " '.ipynb_checkpoints',\n",
       " '.git',\n",
       " 'dummy-folder',\n",
       " 'scraps']"
      ]
     },
     "execution_count": 25,
     "metadata": {},
     "output_type": "execute_result"
    }
   ],
   "source": [
    "## show list programmatically\n",
    "os.listdir()"
   ]
  },
  {
   "cell_type": "markdown",
   "metadata": {
    "id": "fV9ziAEZjMz6"
   },
   "source": [
    "## Manually add some junk to the junk folder and move into that folder\n",
    "\n",
    "Only then do the next step"
   ]
  },
  {
   "cell_type": "code",
   "execution_count": 26,
   "metadata": {},
   "outputs": [
    {
     "data": {
      "text/plain": [
       "'/Users/sandeepjunnarkar/Dropbox/Mac/Downloads/dataProjects/2022-os-file-demo'"
      ]
     },
     "execution_count": 26,
     "metadata": {},
     "output_type": "execute_result"
    }
   ],
   "source": [
    "os.getcwd()"
   ]
  },
  {
   "cell_type": "code",
   "execution_count": 27,
   "metadata": {},
   "outputs": [
    {
     "data": {
      "text/plain": [
       "'/Users/sandeepjunnarkar/Dropbox/Mac/Downloads/dataProjects/2022-os-file-demo/junk-folder'"
      ]
     },
     "execution_count": 27,
     "metadata": {},
     "output_type": "execute_result"
    }
   ],
   "source": [
    "## move into junk folder\n",
    "os.chdir(\"junk-folder\")\n",
    "os.getcwd()"
   ]
  },
  {
   "cell_type": "code",
   "execution_count": 28,
   "metadata": {},
   "outputs": [
    {
     "data": {
      "text/plain": [
       "['fla_count_2.csv',\n",
       " 'fla_count_1.csv',\n",
       " 'adolph-coors-2015.pdf',\n",
       " 'adolph-coors-2014.pdf',\n",
       " 'adolph-coors-2013.pdf']"
      ]
     },
     "execution_count": 28,
     "metadata": {},
     "output_type": "execute_result"
    }
   ],
   "source": [
    "## list content\n",
    "os.listdir()"
   ]
  },
  {
   "cell_type": "code",
   "execution_count": 33,
   "metadata": {},
   "outputs": [],
   "source": [
    "os.chdir(\"../../..\")"
   ]
  },
  {
   "cell_type": "code",
   "execution_count": 34,
   "metadata": {},
   "outputs": [
    {
     "data": {
      "text/plain": [
       "'/Users/sandeepjunnarkar/Dropbox/Mac/Downloads'"
      ]
     },
     "execution_count": 34,
     "metadata": {},
     "output_type": "execute_result"
    }
   ],
   "source": [
    "os.getcwd()"
   ]
  },
  {
   "cell_type": "code",
   "execution_count": 35,
   "metadata": {},
   "outputs": [
    {
     "data": {
      "text/plain": [
       "'/Users/sandeepjunnarkar/Dropbox/Mac/Downloads/dataProjects/2022-os-file-demo/junk-folder'"
      ]
     },
     "execution_count": 35,
     "metadata": {},
     "output_type": "execute_result"
    }
   ],
   "source": [
    "os.chdir(\"dataProjects/2022-os-file-demo/junk-folder\")\n",
    "os.getcwd()"
   ]
  },
  {
   "cell_type": "markdown",
   "metadata": {},
   "source": [
    "## Delete a file\n",
    "\n",
    "#### UNIX - rm filename\n",
    "#### os - os.remove(\"filename\")"
   ]
  },
  {
   "cell_type": "code",
   "execution_count": 29,
   "metadata": {},
   "outputs": [],
   "source": [
    "## remove fla_count_2.csv\n",
    "os.remove(\"fla_count_2.csv\")"
   ]
  },
  {
   "cell_type": "code",
   "execution_count": 30,
   "metadata": {},
   "outputs": [
    {
     "data": {
      "text/plain": [
       "['fla_count_1.csv',\n",
       " 'adolph-coors-2015.pdf',\n",
       " 'adolph-coors-2014.pdf',\n",
       " 'adolph-coors-2013.pdf']"
      ]
     },
     "execution_count": 30,
     "metadata": {},
     "output_type": "execute_result"
    }
   ],
   "source": [
    "## is it still there?\n",
    "os.listdir()"
   ]
  },
  {
   "cell_type": "markdown",
   "metadata": {
    "id": "B6LPgCXSzim3"
   },
   "source": [
    "## Delete a folder\n",
    "\n",
    "1. You can't delete a folder with stuff in it (without a trick)!\n",
    "2. You can't be in the folder you are trying to delete!"
   ]
  },
  {
   "cell_type": "code",
   "execution_count": 38,
   "metadata": {},
   "outputs": [
    {
     "data": {
      "text/plain": [
       "'/Users/sandeepjunnarkar/Dropbox/Mac/Downloads/dataProjects/2022-os-file-demo'"
      ]
     },
     "execution_count": 38,
     "metadata": {},
     "output_type": "execute_result"
    }
   ],
   "source": [
    "os.chdir(\"..\")\n",
    "os.getcwd()"
   ]
  },
  {
   "cell_type": "code",
   "execution_count": 39,
   "metadata": {},
   "outputs": [
    {
     "data": {
      "text/plain": [
       "['raw-data',\n",
       " '.DS_Store',\n",
       " 'LICENSE',\n",
       " 'output',\n",
       " 'junk-folder',\n",
       " 'README.md',\n",
       " 'wk-08A-filefolder-management-DEMO.ipynb',\n",
       " '.gitignore',\n",
       " '.ipynb_checkpoints',\n",
       " '.git',\n",
       " 'dummy-folder',\n",
       " 'scraps']"
      ]
     },
     "execution_count": 39,
     "metadata": {},
     "output_type": "execute_result"
    }
   ],
   "source": [
    "os.listdir()"
   ]
  },
  {
   "cell_type": "code",
   "execution_count": 40,
   "metadata": {
    "id": "4KCG6KCMzim1"
   },
   "outputs": [],
   "source": [
    "## remove an empty directory\n",
    "## NOTE: This only removes empty directories\n",
    "os.rmdir(\"dummy-folder\")"
   ]
  },
  {
   "cell_type": "code",
   "execution_count": 41,
   "metadata": {
    "id": "FL3HymK3hPKB"
   },
   "outputs": [
    {
     "data": {
      "text/plain": [
       "['raw-data',\n",
       " '.DS_Store',\n",
       " 'LICENSE',\n",
       " 'output',\n",
       " 'junk-folder',\n",
       " 'README.md',\n",
       " 'wk-08A-filefolder-management-DEMO.ipynb',\n",
       " '.gitignore',\n",
       " '.ipynb_checkpoints',\n",
       " '.git',\n",
       " 'scraps']"
      ]
     },
     "execution_count": 41,
     "metadata": {},
     "output_type": "execute_result"
    }
   ],
   "source": [
    "## where we?\n",
    "os.listdir()"
   ]
  },
  {
   "cell_type": "code",
   "execution_count": null,
   "metadata": {
    "colab": {
     "base_uri": "https://localhost:8080/"
    },
    "id": "7_6pPtLvhR2n",
    "outputId": "aac193b1-69d4-4d0c-e019-7d6eaae1e3cc"
   },
   "outputs": [],
   "source": [
    "## change directory\n"
   ]
  },
  {
   "cell_type": "code",
   "execution_count": null,
   "metadata": {
    "colab": {
     "base_uri": "https://localhost:8080/"
    },
    "id": "7v4wjf3Ozim2",
    "outputId": "406fe246-ed57-4000-c585-3127ba62307d"
   },
   "outputs": [],
   "source": [
    "## show directory now programmatically\n"
   ]
  },
  {
   "cell_type": "code",
   "execution_count": 42,
   "metadata": {},
   "outputs": [
    {
     "ename": "OSError",
     "evalue": "[Errno 66] Directory not empty: 'junk-folder'",
     "output_type": "error",
     "traceback": [
      "\u001b[0;31m---------------------------------------------------------------------------\u001b[0m",
      "\u001b[0;31mOSError\u001b[0m                                   Traceback (most recent call last)",
      "\u001b[0;32m/var/folders/jg/xjfmqdcj0m1bqs1d7sgv9v480000gp/T/ipykernel_26537/2444748064.py\u001b[0m in \u001b[0;36m<module>\u001b[0;34m\u001b[0m\n\u001b[1;32m      1\u001b[0m \u001b[0;31m## delete dummy folder\u001b[0m\u001b[0;34m\u001b[0m\u001b[0;34m\u001b[0m\u001b[0m\n\u001b[0;32m----> 2\u001b[0;31m \u001b[0mos\u001b[0m\u001b[0;34m.\u001b[0m\u001b[0mrmdir\u001b[0m\u001b[0;34m(\u001b[0m\u001b[0;34m\"junk-folder\"\u001b[0m\u001b[0;34m)\u001b[0m\u001b[0;34m\u001b[0m\u001b[0;34m\u001b[0m\u001b[0m\n\u001b[0m",
      "\u001b[0;31mOSError\u001b[0m: [Errno 66] Directory not empty: 'junk-folder'"
     ]
    }
   ],
   "source": [
    "## delete dummy folder\n",
    "os.rmdir(\"junk-folder\")"
   ]
  },
  {
   "cell_type": "code",
   "execution_count": null,
   "metadata": {},
   "outputs": [],
   "source": [
    "## show directory now programmatically\n"
   ]
  },
  {
   "cell_type": "code",
   "execution_count": null,
   "metadata": {
    "id": "P3AgRWGmjS5h"
   },
   "outputs": [],
   "source": [
    "## move program into junk folder programmatically\n",
    "\n"
   ]
  },
  {
   "cell_type": "code",
   "execution_count": null,
   "metadata": {
    "id": "Ac9oevd_jbpM"
   },
   "outputs": [],
   "source": [
    "### list directory\n"
   ]
  },
  {
   "cell_type": "code",
   "execution_count": null,
   "metadata": {},
   "outputs": [],
   "source": [
    "## confirm location\n"
   ]
  },
  {
   "cell_type": "markdown",
   "metadata": {
    "id": "n-y3mgMF-ODk"
   },
   "source": [
    "## Delete junk_folder (this will break)"
   ]
  },
  {
   "cell_type": "code",
   "execution_count": 43,
   "metadata": {
    "colab": {
     "base_uri": "https://localhost:8080/"
    },
    "id": "kP6b0gvK5u_W",
    "outputId": "66990247-3f4f-4850-acdf-aa971244d962"
   },
   "outputs": [
    {
     "ename": "OSError",
     "evalue": "[Errno 66] Directory not empty: 'junk-folder'",
     "output_type": "error",
     "traceback": [
      "\u001b[0;31m---------------------------------------------------------------------------\u001b[0m",
      "\u001b[0;31mOSError\u001b[0m                                   Traceback (most recent call last)",
      "\u001b[0;32m/var/folders/jg/xjfmqdcj0m1bqs1d7sgv9v480000gp/T/ipykernel_26537/1326560161.py\u001b[0m in \u001b[0;36m<module>\u001b[0;34m\u001b[0m\n\u001b[1;32m      1\u001b[0m \u001b[0;31m## delete junk folder - will break\u001b[0m\u001b[0;34m\u001b[0m\u001b[0;34m\u001b[0m\u001b[0m\n\u001b[0;32m----> 2\u001b[0;31m \u001b[0mos\u001b[0m\u001b[0;34m.\u001b[0m\u001b[0mrmdir\u001b[0m\u001b[0;34m(\u001b[0m\u001b[0;34m\"junk-folder\"\u001b[0m\u001b[0;34m)\u001b[0m\u001b[0;34m\u001b[0m\u001b[0;34m\u001b[0m\u001b[0m\n\u001b[0m",
      "\u001b[0;31mOSError\u001b[0m: [Errno 66] Directory not empty: 'junk-folder'"
     ]
    }
   ],
   "source": [
    "## delete junk folder - will break\n",
    "os.rmdir(\"junk-folder\")"
   ]
  },
  {
   "cell_type": "code",
   "execution_count": null,
   "metadata": {
    "colab": {
     "base_uri": "https://localhost:8080/"
    },
    "id": "ZC6VON3s4XzA",
    "outputId": "83e4a906-fd99-4587-a13c-04f65355b72a"
   },
   "outputs": [],
   "source": [
    "## where am i?\n"
   ]
  },
  {
   "cell_type": "code",
   "execution_count": null,
   "metadata": {
    "id": "TfC1MBkxzim3"
   },
   "outputs": [],
   "source": [
    "## move out of junk folder\n"
   ]
  },
  {
   "cell_type": "code",
   "execution_count": null,
   "metadata": {
    "colab": {
     "base_uri": "https://localhost:8080/"
    },
    "id": "LHaY_W2z0u1j",
    "outputId": "fae0352b-ecea-4145-e761-c43876312b83"
   },
   "outputs": [],
   "source": [
    "## show directory now USING OS\n"
   ]
  },
  {
   "cell_type": "code",
   "execution_count": 44,
   "metadata": {
    "id": "41vPYHBQzim4"
   },
   "outputs": [],
   "source": [
    "## Now delete all contents\n",
    "shutil.rmtree(\"junk-folder\")"
   ]
  },
  {
   "cell_type": "code",
   "execution_count": 45,
   "metadata": {
    "colab": {
     "base_uri": "https://localhost:8080/"
    },
    "id": "Ww0f86byzim4",
    "outputId": "c204aeb7-86f8-4c9b-e919-a7e5b66fbe9a"
   },
   "outputs": [
    {
     "data": {
      "text/plain": [
       "['raw-data',\n",
       " '.DS_Store',\n",
       " 'LICENSE',\n",
       " 'output',\n",
       " 'README.md',\n",
       " 'wk-08A-filefolder-management-DEMO.ipynb',\n",
       " '.gitignore',\n",
       " '.ipynb_checkpoints',\n",
       " '.git',\n",
       " 'scraps']"
      ]
     },
     "execution_count": 45,
     "metadata": {},
     "output_type": "execute_result"
    }
   ],
   "source": [
    "## show directory now USING OS\n",
    "os.listdir()"
   ]
  },
  {
   "cell_type": "code",
   "execution_count": null,
   "metadata": {},
   "outputs": [],
   "source": []
  }
 ],
 "metadata": {
  "colab": {
   "collapsed_sections": [],
   "provenance": []
  },
  "kernelspec": {
   "display_name": "Python 3 (ipykernel)",
   "language": "python",
   "name": "python3"
  },
  "language_info": {
   "codemirror_mode": {
    "name": "ipython",
    "version": 3
   },
   "file_extension": ".py",
   "mimetype": "text/x-python",
   "name": "python",
   "nbconvert_exporter": "python",
   "pygments_lexer": "ipython3",
   "version": "3.9.7"
  }
 },
 "nbformat": 4,
 "nbformat_minor": 1
}
